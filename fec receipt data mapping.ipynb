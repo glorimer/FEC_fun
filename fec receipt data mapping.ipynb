{
 "cells": [
  {
   "cell_type": "markdown",
   "id": "9cb5545a-99d0-4bea-83be-15c0920beba2",
   "metadata": {},
   "source": [
    "<html><h1>Mapping contributions</h1></html>"
   ]
  },
  {
   "cell_type": "markdown",
   "id": "3bc028c5-2a7a-45ab-a973-c1c190b0d094",
   "metadata": {},
   "source": [
    "This notebook can be used to map contribution receipt data downloaded from the FEC. Simply download a csv from the FEC's website that you are interested in and fill in the four entry prompts in the second cell below. Keep in mind that small dollar donations made through ActBlue or WinRed have been removed from these maps as they skew the data, so this is not a perfectly accurate representation of the contributors, but it's the best we can do without having access to those unitemized contributions.\n",
    "\n",
    "I ran this notebook using the contribution receipt data from Cal Cunningham's campaign for NC Senate between 2019 and 2020. The preloading the maps made the notebook too large to upload, so I uploaded the html maps to the repository seperately\n",
    "\n",
    "Last updated: 1/21/2022"
   ]
  },
  {
   "cell_type": "code",
   "execution_count": 1,
   "id": "176f8092-8920-4d84-9174-062615030261",
   "metadata": {},
   "outputs": [],
   "source": [
    "import pandas as pd\n",
    "import matplotlib.pyplot as plt\n",
    "import numpy as np\n",
    "import datetime\n",
    "import folium\n",
    "# from folium.plugins import MousePosition\n",
    "import json\n",
    "from urllib.request import urlopen\n",
    "import requests\n",
    "from bs4 import BeautifulSoup"
   ]
  },
  {
   "cell_type": "markdown",
   "id": "be1f8712-b3b5-43dc-82fd-187d1509802f",
   "metadata": {},
   "source": [
    "<html><h4>Entries</h4></html>"
   ]
  },
  {
   "cell_type": "code",
   "execution_count": 2,
   "id": "26cbb882-ccca-4d1d-8362-5957906cdad5",
   "metadata": {},
   "outputs": [],
   "source": [
    "csv_path=r'csvs\\cunningham-nc-sen-receipts-2019-2020.csv' ##your csv path - \n",
    "select_state='NC' #if there is a particular state you want to zoom in on and view results by zip code\n",
    "raised_or_count='count' #if intent is to view amount 'raised' or 'count' of contributions - both will display on mouseover but only one will be charted on maps\n",
    "party='Democrat' ## Party of candidate, only relevant for 'Democrat' or 'Republican', no special features for independents or 3rd party candidates. the code should still work with those candidates"
   ]
  },
  {
   "cell_type": "markdown",
   "id": "8d7b76a2-1c85-4e6f-bfce-31c6743baac6",
   "metadata": {},
   "source": [
    "<html><h4>Data Wrangling</h4></html>"
   ]
  },
  {
   "cell_type": "code",
   "execution_count": 3,
   "id": "31638982",
   "metadata": {
    "tags": []
   },
   "outputs": [
    {
     "name": "stdout",
     "output_type": "stream",
     "text": [
      "Cal For Nc\n"
     ]
    }
   ],
   "source": [
    "fundraising_raw=pd.read_csv(csv_path, low_memory=False)\n",
    "print(fundraising_raw['committee_name'].head(1).iloc[0].title())\n",
    "\n",
    "fundraising_raw['receipt_date'] = pd.to_datetime(fundraising_raw['contribution_receipt_date']).dt.date\n",
    "fundraising_raw['receipt_year'] = pd.DatetimeIndex(fundraising_raw['receipt_date']).year\n",
    "fundraising_raw['receipt_month'] = pd.DatetimeIndex(fundraising_raw['receipt_date']).month\n",
    "fundraising_raw['receipt_time'] = pd.to_datetime(fundraising_raw['contribution_receipt_date']).dt.time\n",
    "\n",
    "fundraising_shrink=fundraising_raw[['report_year','report_type','entity_type_desc','contributor_name'\n",
    "    ,'contributor_first_name','contributor_middle_name','contributor_last_name','contributor_suffix','contributor_street_1'\n",
    "    ,'contributor_street_2','contributor_city','contributor_state','contributor_zip','contributor_employer'\n",
    "    ,'contributor_occupation','receipt_date','receipt_year','receipt_month','receipt_time','contribution_receipt_amount','contributor_aggregate_ytd',\n",
    "    'donor_committee_name','election_type','schedule_type_full']]\n",
    "\n",
    "# fundraising_shrink1.head(5)"
   ]
  },
  {
   "cell_type": "code",
   "execution_count": 4,
   "id": "7111e14a-5d6b-4a20-84d4-b84ff30ad8e0",
   "metadata": {
    "tags": []
   },
   "outputs": [],
   "source": [
    "# some necessary dictionaries\n",
    "\n",
    "states = [ 'AK', 'AL', 'AR', 'AZ', 'CA', 'CO', 'CT', 'DC', 'DE', 'FL', 'GA',\n",
    "           'HI', 'IA', 'ID', 'IL', 'IN', 'KS', 'KY', 'LA', 'MA', 'MD', 'ME',\n",
    "           'MI', 'MN', 'MO', 'MS', 'MT', 'NC', 'ND', 'NE', 'NH', 'NJ', 'NM',\n",
    "           'NV', 'NY', 'OH', 'OK', 'OR', 'PA', 'RI', 'SC', 'SD', 'TN', 'TX',\n",
    "           'UT', 'VA', 'VT', 'WA', 'WI', 'WV', 'WY']\n",
    "\n",
    "states_dict = {\n",
    "        'AK': 'Alaska',\n",
    "        'AE': 'Armed Forces Europe',\n",
    "        'AP': 'Armed Forces Pacific',\n",
    "        'AL': 'Alabama',\n",
    "        'AR': 'Arkansas',\n",
    "        'AS': 'American Samoa',\n",
    "        'AZ': 'Arizona',\n",
    "        'CA': 'California',\n",
    "        'CO': 'Colorado',\n",
    "        'CT': 'Connecticut',\n",
    "        'DC': 'District of Columbia',\n",
    "        'DE': 'Delaware',\n",
    "        'FL': 'Florida',\n",
    "        'GA': 'Georgia',\n",
    "        'GU': 'Guam',\n",
    "        'HI': 'Hawaii',\n",
    "        'IA': 'Iowa',\n",
    "        'ID': 'Idaho',\n",
    "        'IL': 'Illinois',\n",
    "        'IN': 'Indiana',\n",
    "        'KS': 'Kansas',\n",
    "        'KY': 'Kentucky',\n",
    "        'LA': 'Louisiana',\n",
    "        'MA': 'Massachusetts',\n",
    "        'MD': 'Maryland',\n",
    "        'ME': 'Maine',\n",
    "        'MI': 'Michigan',\n",
    "        'MN': 'Minnesota',\n",
    "        'MO': 'Missouri',\n",
    "        'MP': 'Northern Mariana Islands',\n",
    "        'MS': 'Mississippi',\n",
    "        'MT': 'Montana',\n",
    "        'NA': 'National',\n",
    "        'NC': 'North Carolina',\n",
    "        'ND': 'North Dakota',\n",
    "        'NE': 'Nebraska',\n",
    "        'NH': 'New Hampshire',\n",
    "        'NJ': 'New Jersey',\n",
    "        'NM': 'New Mexico',\n",
    "        'NV': 'Nevada',\n",
    "        'NY': 'New York',\n",
    "        'OH': 'Ohio',\n",
    "        'OK': 'Oklahoma',\n",
    "        'OR': 'Oregon',\n",
    "        'PA': 'Pennsylvania',\n",
    "        'PR': 'Puerto Rico',\n",
    "        'RI': 'Rhode Island',\n",
    "        'SC': 'South Carolina',\n",
    "        'SD': 'South Dakota',\n",
    "        'TN': 'Tennessee',\n",
    "        'TX': 'Texas',\n",
    "        'UT': 'Utah',\n",
    "        'VA': 'Virginia',\n",
    "        'VI': 'Virgin Islands',\n",
    "        'VT': 'Vermont',\n",
    "        'WA': 'Washington',\n",
    "        'WI': 'Wisconsin',\n",
    "        'WV': 'West Virginia',\n",
    "        'WY': 'Wyoming'\n",
    "}\n",
    "\n",
    "\n",
    "inv_map = {v: k for k, v in states_dict.items()}  ## credit https://stackoverflow.com/questions/483666/reverse-invert-a-dictionary-mapping\n",
    "\n",
    "overseas = [ 'AE', 'AP', 'GU', 'PR', 'VI', 'MP']\n"
   ]
  },
  {
   "cell_type": "code",
   "execution_count": 5,
   "id": "3e732408-3ba0-4260-b132-c73c28b1ece3",
   "metadata": {},
   "outputs": [],
   "source": [
    "##data used to create geo boundaries and find coordinates\n",
    "\n",
    "## map of states - doesn't include DC or overseas territories sadly\n",
    "json_url =     \"https://raw.githubusercontent.com/python-visualization/folium/master/examples/data/us-states.json\"\n",
    "response = urlopen(json_url)\n",
    "state_geo = json.loads(response.read())\n",
    "\n",
    "##zip code boundaries for state of interest\n",
    "## if making into a dashboard - improve speed of switching between states by creating a file for each state at the start. cons: takes longer up front, uses more memory, pros: quicker to navigate once loaded.\n",
    "json_url='https://raw.githubusercontent.com/OpenDataDE/State-zip-code-GeoJSON/master/'+select_state+\"_\"+states_dict[select_state].replace(' ','_')+'_zip_codes_geo.min.json' ##Credit Open Data Delaware\n",
    "response = urlopen(json_url.lower())\n",
    "zip_boundaries = json.loads(response.read())\n",
    "\n",
    "##pull coordinates of each state from html table\n",
    "soup_url='https://www.census.gov/geographies/reference-files/2010/geo/state-area.html' ##Credit US Census Bureau\n",
    "response=requests.get(soup_url)\n",
    "soup=BeautifulSoup(response.content,'html')\n",
    "html_table=soup.find_all('table')\n",
    "html_table=html_table[0]\n",
    "\n",
    "coordinates=pd.DataFrame(columns=['state','coords'])\n",
    "\n",
    "for n in range(len(html_table.tbody.find_all('tr'))-6):\n",
    "    data=html_table.tbody.find_all('tr')[n+6].find_all('td')\n",
    "    coordinates.loc[n,'state']=data[0].text.strip()\n",
    "    if data[-2].text.strip()=='':\n",
    "        coordinates.loc[n,'coords']=[0,0]\n",
    "    else:\n",
    "        coordinates.loc[n,'coords']=[float(data[-2].text.strip()),float(data[-1].text.strip())]\n",
    "\n",
    "coordinates['state']=coordinates['state'].map(inv_map)\n",
    "coordinates.dropna(axis=0,inplace=True)"
   ]
  },
  {
   "cell_type": "code",
   "execution_count": 6,
   "id": "28cdce56",
   "metadata": {},
   "outputs": [],
   "source": [
    "#dataframes for geographies\n",
    "select_state_full=states_dict[select_state]\n",
    "\n",
    "geo_df=fundraising_shrink[fundraising_shrink['contributor_state'].notna()]\n",
    "\n",
    "#ActBlue donations skew data to Massachussetts for democrats, winred to virginia for republicans. need to trim these out for mapping purposes\n",
    "if party=='Democrat':\n",
    "    geo_df=geo_df[(geo_df['contributor_name']!='ACTBLUE')] \n",
    "elif party=='Republican':\n",
    "    geo_df=geo_df[(geo_df['contributor_name']!='WINRED')] \n",
    "\n",
    "geo_df=geo_df[geo_df['contributor_zip'].notna()]\n",
    "geo_df=geo_df[~geo_df['contributor_zip'].astype(str).str.contains(\"[a-zA-Z]\").fillna(False)] #drops all zip codes with letters\n",
    "geo_df=geo_df.astype({'contributor_zip':str})\n",
    "geo_df['zip+4']=geo_df['zip']=geo_df['contributor_zip'].str[5:] #this also fills in zip codes with < 9 digits, might be worth tinkering with if those +4 zips are relevant\n",
    "geo_df['zip']=geo_df['contributor_zip'].str[:5]\n",
    "geo_df.drop('contributor_zip', axis=1)\n",
    "\n",
    "#breakdown of all zips first, then by state\n",
    "raised_zip=geo_df[['zip','contribution_receipt_amount']].groupby('zip').sum()\n",
    "raised_zip.reset_index(inplace=True)\n",
    "count_zip=geo_df[['zip','contribution_receipt_amount']].groupby('zip').count()\n",
    "count_zip.reset_index(inplace=True)\n",
    "\n",
    "state_df=geo_df[geo_df['contributor_state']==select_state]\n",
    "\n",
    "raised_state_zip=state_df[['zip','contribution_receipt_amount']].groupby('zip').sum()\n",
    "raised_state_zip.reset_index(inplace=True)\n",
    "count_state_zip=state_df[['zip','contribution_receipt_amount']].groupby('zip').count()\n",
    "count_state_zip.reset_index(inplace=True)\n",
    "\n",
    "raised_state=geo_df[['contributor_state','contribution_receipt_amount']].groupby('contributor_state').sum()\n",
    "raised_state.reset_index(inplace=True)\n",
    "# raised_state['state_name']=raised_state['contributor_state'].map(states_dict)\n",
    "count_state=geo_df[['contributor_state','contribution_receipt_amount']].groupby('contributor_state').count()\n",
    "count_state.reset_index(inplace=True)\n",
    "# count_state['state_name']=count_state['contributor_state'].map(states_dict)\n",
    "\n",
    "raised_usa=raised_state[(raised_state['contributor_state'].isin(states))].reset_index(drop=True)\n",
    "count_usa=count_state[(count_state['contributor_state'].isin(states))].reset_index(drop=True)\n",
    "\n",
    "raised_city=geo_df[['contributor_city','contribution_receipt_amount']].groupby('contributor_city').sum()\n",
    "raised_city.reset_index(inplace=True)\n",
    "count_city=geo_df[['contributor_city','contribution_receipt_amount']].groupby('contributor_city').count()\n",
    "count_city.reset_index(inplace=True)\n"
   ]
  },
  {
   "cell_type": "markdown",
   "id": "17f502b8-4f70-48a0-8d22-058911dc2efc",
   "metadata": {},
   "source": [
    "<html><h4>Contribution map of states</h4></html>\n",
    "This next cell creates a map of the contributions accross the 50 states. I'm hoping to update the GeoJSON to include DC and overseas territories in the future. The map will be centered on the contiguous 48 states, but you can move it around to view Alaska and Hawaii as well."
   ]
  },
  {
   "cell_type": "code",
   "execution_count": 1,
   "id": "1e048b8d-6390-4dfc-a472-9583b0e09c49",
   "metadata": {
    "tags": []
   },
   "outputs": [],
   "source": [
    "##add count and raised amount to geojson file - needed to make the mouseover tooltip display this info\n",
    "for row in state_geo['features']:\n",
    "    row['properties']['count']=count_usa[count_usa['contributor_state']==row['id']]['contribution_receipt_amount'].iloc[0].astype(str)\n",
    "    row['properties']['raised']=raised_usa[raised_usa['contributor_state']==row['id']]['contribution_receipt_amount'].iloc[0].astype(str)\n",
    "\n",
    "usa_map = folium.Map(location=[39, -96], zoom_start=5, tiles=\"Stamen Watercolor\")\n",
    "\n",
    "map_data=folium.Choropleth(\n",
    "    geo_data=state_geo,\n",
    "    name=\"choropleth\",\n",
    "    data=(raised_usa if raised_or_count=='raised' else count_usa),\n",
    "    columns=[\"contributor_state\", \"contribution_receipt_amount\"],\n",
    "    key_on=\"feature.id\",\n",
    "    fill_color=\"YlGnBu\",\n",
    "    fill_opacity=0.9,\n",
    "    line_opacity=0.1,\n",
    "    legend_name=(\"Amount Raised ($)\" if raised_or_count=='raised' else \"Number of Contributions\"),\n",
    "    title='data'\n",
    ").add_to(usa_map)\n",
    "\n",
    "folium.features.GeoJsonTooltip(fields=['name','count','raised'],\n",
    "                               aliases=['State:','Number of Contributions:','Amount Raised ($):']).add_to(map_data.geojson)   #if raised_or_count=='count' else             \n",
    "\n",
    "usa_map.save('usa_map.html') #- uncomment this to save an html file locally\n",
    "usa_map"
   ]
  },
  {
   "cell_type": "markdown",
   "id": "5926dc15-dd61-42ba-978c-66808316867b",
   "metadata": {
    "tags": []
   },
   "source": [
    "<html><h4>Zip code map of selected state</h4></html>\n",
    "This next cell will create a map of contributions based on zip code in the state you selected at the top of this notebook. I'm working on improvements that will allow users to switch between states more easily, but this works for now. The zip code boundary files are very large so this loads relatively slowly, but for most states the map will appear in under a minute."
   ]
  },
  {
   "cell_type": "code",
   "execution_count": 2,
   "id": "a433d029",
   "metadata": {},
   "outputs": [],
   "source": [
    "## add count and raised to geojson dictionary (to include these values in mouseover tooltip)\n",
    "for row in zip_boundaries['features']:\n",
    "    zip_temp=row['properties']['ZCTA5CE10']\n",
    "    if zip_temp in count_state_zip.zip.values:\n",
    "        row['properties']['count']=count_state_zip[count_state_zip['zip']==zip_temp]['contribution_receipt_amount'].iloc[0].astype(str)\n",
    "        row['properties']['raised']=raised_state_zip[raised_state_zip['zip']==zip_temp]['contribution_receipt_amount'].iloc[0].astype(str)\n",
    "    else:\n",
    "        row['properties']['count']='0'\n",
    "        row['properties']['raised']='0'\n",
    "        \n",
    "        \n",
    "##Map of zip codes in state\n",
    "state_map = folium.Map(location=(coordinates[coordinates['state']==select_state]['coords'].iloc[0]), zoom_start=7, tiles='cartoDBpositron')\n",
    "\n",
    "map_data=folium.Choropleth(\n",
    "    geo_data=zip_boundaries,\n",
    "    name=\"choropleth\",\n",
    "    data=(raised_state_zip if raised_or_count=='raised' else count_state_zip),\n",
    "    columns=[\"zip\", \"contribution_receipt_amount\"],\n",
    "    key_on=\"feature.properties.ZCTA5CE10\",\n",
    "    fill_color=\"YlGnBu\",\n",
    "    fill_opacity=0.7,\n",
    "    nan_fill_opacity=0.2,\n",
    "    line_opacity=0.3,\n",
    "    legend_name=(\"Amount Raised ($)\" if raised_or_count=='raised' else 'Number of Contributions')\n",
    ").add_to(state_map)\n",
    "\n",
    "folium.features.GeoJsonTooltip(fields=['ZCTA5CE10','count','raised'],aliases=['Zip Code:','Number of Contributions:','Amount Raised ($):']).add_to(map_data.geojson)\n",
    "\n",
    "# state_map.save('state_map.html') #- uncomment this to save an html file locally\n",
    "state_map"
   ]
  },
  {
   "cell_type": "code",
   "execution_count": null,
   "id": "0e586c07-d29d-447c-8e97-3fdc905393bf",
   "metadata": {},
   "outputs": [],
   "source": []
  }
 ],
 "metadata": {
  "kernelspec": {
   "display_name": "Python 3 (ipykernel)",
   "language": "python",
   "name": "python3"
  },
  "language_info": {
   "codemirror_mode": {
    "name": "ipython",
    "version": 3
   },
   "file_extension": ".py",
   "mimetype": "text/x-python",
   "name": "python",
   "nbconvert_exporter": "python",
   "pygments_lexer": "ipython3",
   "version": "3.10.1"
  }
 },
 "nbformat": 4,
 "nbformat_minor": 5
}
